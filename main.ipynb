{
 "cells": [
  {
   "cell_type": "markdown",
   "id": "3397564a-d4ef-4029-9516-8cd775a77831",
   "metadata": {},
   "source": [
    "# PCA and K-means on a music dataset\n",
    "\n",
    "PCA and K-means are two powerful non parametric techniques that given a dataset allows us to remove noise (PCA) and divide the datapoints into groups, this can be important for community or types detection. In this case we will apply PCA to clean the dataset in order to divide the songs per genre."
   ]
  },
  {
   "cell_type": "markdown",
   "id": "ba9cbafd-0abc-4734-9dea-4733f80a7fde",
   "metadata": {},
   "source": [
    "## 1. Collecting the data\n",
    "\n",
    "For this task we'll merge three different datasets. Cleaning and unifying messy and complex data sets for easy access and analysis is a daily challenge for data scientists!"
   ]
  },
  {
   "cell_type": "code",
   "execution_count": 1,
   "id": "a3ea0b7f-ece8-486c-bbbc-2d4507d53f4c",
   "metadata": {
    "id": "sP5Hdq3psosK"
   },
   "outputs": [],
   "source": [
    "import pandas as pd\n",
    "import functions as f\n",
    "import glob\n",
    "import pickle\n",
    "from sklearn.preprocessing import StandardScaler\n",
    "from sklearn.decomposition import PCA\n",
    "import numpy as np\n",
    "import matplotlib.pyplot as plt\n",
    "from matplotlib.pyplot import figure\n",
    "import scipy as sc\n",
    "from scipy.spatial.distance import cdist \n",
    "from sklearn.cluster import KMeans\n",
    "from scipy.spatial import distance\n",
    "import sklearn\n",
    "from sklearn.metrics import silhouette_score\n",
    "from sklearn import metrics\n",
    "from yellowbrick.cluster import KElbowVisualizer"
   ]
  },
  {
   "cell_type": "code",
   "execution_count": 2,
   "id": "83e2439c-f7c6-472e-9f7c-324a8f264e63",
   "metadata": {
    "id": "Mr04N9v7s1eB"
   },
   "outputs": [],
   "source": [
    "## Load Data\n",
    "df1 = pd.read_csv('echonest.csv')\n",
    "df2 = pd.read_csv('features.csv')"
   ]
  },
  {
   "cell_type": "markdown",
   "id": "710e6445-09c8-4598-be43-28e7c9b2069c",
   "metadata": {},
   "source": [
    "#### Checking for NA's"
   ]
  },
  {
   "cell_type": "code",
   "execution_count": null,
   "id": "4a22bc63-d58a-4154-bf88-3f4d7bdacb8e",
   "metadata": {
    "colab": {
     "base_uri": "https://localhost:8080/"
    },
    "id": "2mgCF4SNvQUh",
    "outputId": "2dac7c78-e113-4eeb-f79c-584a91edf97e",
    "tags": []
   },
   "outputs": [],
   "source": [
    "df1.isnull().sum().head(50)"
   ]
  },
  {
   "cell_type": "markdown",
   "id": "b8c4d6c9-b656-4cd1-962f-6b6f97608a95",
   "metadata": {
    "id": "gIEx1YzfGP1K"
   },
   "source": [
    "For the column with over 10 thousand NA's makes sense to drop the whole column as it is not useful for the PCA, while for the other columns where the number of NA's is not drastically big the best way is to interpolate with the 'nearest' method."
   ]
  },
  {
   "cell_type": "code",
   "execution_count": 4,
   "id": "e9a021a2-5ab3-4171-87fa-36c83e6c1dde",
   "metadata": {
    "id": "BXE5k5O7ipzN"
   },
   "outputs": [],
   "source": [
    "df1['metadata_artist_latitude'] = df1['metadata_artist_latitude'].interpolate(method = 'nearest')\n",
    "df1['metadata_artist_longitude'] = df1['metadata_artist_longitude'].interpolate(method = 'nearest')"
   ]
  },
  {
   "cell_type": "markdown",
   "id": "43c59513-d2fa-4a9d-a985-b6501ac321a4",
   "metadata": {},
   "source": [
    "#### Merging the data"
   ]
  },
  {
   "cell_type": "code",
   "execution_count": 5,
   "id": "a33f4ae6-c27a-4065-8b80-bae808390b72",
   "metadata": {
    "id": "5VJWKIqhs1oS"
   },
   "outputs": [],
   "source": [
    "## Inner Join\n",
    "df = pd.merge(left = df1, right = df2, left_on = 'track_id', right_on = 'track_id')"
   ]
  },
  {
   "cell_type": "markdown",
   "id": "bb9a53fe-f1f5-4846-bb9b-fba85692bc17",
   "metadata": {
    "tags": []
   },
   "source": [
    "## 2. Principal Component Analysis\n",
    "\n",
    "First thing we have to choose the fetures to apply the PCA, this means we have to drop all the columns with object, categorical data and irrelevant variables."
   ]
  },
  {
   "cell_type": "code",
   "execution_count": 6,
   "id": "cebb1147-a86f-4cf3-9468-0e62ccf133ae",
   "metadata": {
    "id": "Sh_pTXrbo2G8"
   },
   "outputs": [],
   "source": [
    "df_new = df.drop(columns=['metadata_artist_location','metadata_artist_name',\n",
    "                            'metadata_album_date',\n",
    "                            'metadata_album_name','metadata_release',\n",
    "                            'ranks_artist_discovery_rank','ranks_artist_familiarity_rank', 'ranks_artist_hotttnesss_rank',\n",
    "                            'ranks_song_currency_rank', 'ranks_song_hotttnesss_rank'])\n",
    "\n",
    "df_pca = df_new.drop(columns=['track_id'])"
   ]
  },
  {
   "cell_type": "markdown",
   "id": "9df81895-9abf-4209-a128-4d2db00150a0",
   "metadata": {
    "tags": []
   },
   "source": [
    "#### Always standardize the features\n",
    "\n",
    "Not standardizing the features will lead to wrong results because the scale of the features influences the PCA."
   ]
  },
  {
   "cell_type": "code",
   "execution_count": 7,
   "id": "f72fee49-d9ed-4345-a1c1-1a02b0859907",
   "metadata": {
    "id": "PDs7CtsK7ThK"
   },
   "outputs": [],
   "source": [
    "## In this way we standardize the features\n",
    "\n",
    "x = StandardScaler().fit_transform(df_pca)\n",
    "x = pd.DataFrame(x)"
   ]
  },
  {
   "cell_type": "markdown",
   "id": "b3ec7015-d972-41b0-8ac6-d1e8741fe23c",
   "metadata": {},
   "source": [
    "#### Implementing the model"
   ]
  },
  {
   "cell_type": "code",
   "execution_count": null,
   "id": "677ca07d-4c29-46ac-a277-de8ce90a5770",
   "metadata": {
    "colab": {
     "base_uri": "https://localhost:8080/"
    },
    "id": "73cX24zSy51Z",
    "outputId": "395a9797-3b57-4dc7-9005-dff707b98702"
   },
   "outputs": [],
   "source": [
    "pca = PCA()\n",
    "pca.fit(x)"
   ]
  },
  {
   "cell_type": "markdown",
   "id": "fcf0da80-17dc-4eb1-83b6-4d0c1f197f5f",
   "metadata": {
    "tags": []
   },
   "source": [
    "#### Selecting the number of components\n",
    "\n",
    "A method to select the number of components is to look at the cumulate percentage of explained variance and choose the one that explaines at least the 70%."
   ]
  },
  {
   "cell_type": "code",
   "execution_count": 9,
   "id": "2ae9a8d7-99bd-4742-8354-61953946dbf9",
   "metadata": {
    "colab": {
     "base_uri": "https://localhost:8080/"
    },
    "id": "UE7jw8H846wF",
    "outputId": "27184e9b-d03e-4ad3-b730-6d30508b361c"
   },
   "outputs": [
    {
     "data": {
      "text/plain": [
       "array([0.66438892, 0.66756669, 0.67068784, 0.67379247, 0.67684569,\n",
       "       0.67980056, 0.68270615, 0.68556014, 0.68839786, 0.69117904,\n",
       "       0.69393971, 0.69665995, 0.69936076, 0.70198898, 0.70460376,\n",
       "       0.70712077, 0.70960614, 0.71205547, 0.71446768, 0.71686264])"
      ]
     },
     "execution_count": 9,
     "metadata": {},
     "output_type": "execute_result"
    }
   ],
   "source": [
    "np.cumsum(pca.explained_variance_ratio_)[50:70]"
   ]
  },
  {
   "cell_type": "markdown",
   "id": "15f128a6-a92f-415c-bf2b-8bbcec752ff5",
   "metadata": {
    "id": "Yc6zAxTuBOLA"
   },
   "source": [
    "We can see that the threshold of 70% of explained variance is reached with a total number of 64 components."
   ]
  },
  {
   "cell_type": "code",
   "execution_count": 10,
   "id": "3ddd92a3-c073-48e0-940a-97de422bf28c",
   "metadata": {
    "colab": {
     "base_uri": "https://localhost:8080/",
     "height": 497
    },
    "id": "Hxv81j973WS6",
    "outputId": "23437789-12d3-4909-feee-0855b61509d0"
   },
   "outputs": [
    {
     "name": "stderr",
     "output_type": "stream",
     "text": [
      "findfont: Font family ['sans-serif'] not found. Falling back to DejaVu Sans.\n",
      "findfont: Generic family 'sans-serif' not found because none of the following families were found: Arial, Liberation Sans, Bitstream Vera Sans, sans-serif\n",
      "findfont: Font family ['sans-serif'] not found. Falling back to DejaVu Sans.\n",
      "findfont: Generic family 'sans-serif' not found because none of the following families were found: Arial, Liberation Sans, Bitstream Vera Sans, sans-serif\n"
     ]
    },
    {
     "data": {
      "image/png": "[encoded data removed]",
      "text/plain": [
       "<Figure size 1152x576 with 1 Axes>"
      ]
     },
     "metadata": {},
     "output_type": "display_data"
    }
   ],
   "source": [
    "cumulatevariance = np.cumsum(pca.explained_variance_ratio_)\n",
    "cumulatevariance = cumulatevariance[cumulatevariance <= 0.7019].tolist() \n",
    "n = len(cumulatevariance)+1 \n",
    "\n",
    "plt.figure(figsize=(16,8))\n",
    "plt.plot(np.cumsum(pca.explained_variance_ratio_))\n",
    "plt.xlabel('number of components')\n",
    "plt.ylabel('cumulative explained variance')\n",
    "plt.xlim((0,100))\n",
    "plt.axvline(n, color = 'orange');"
   ]
  },
  {
   "cell_type": "markdown",
   "id": "59544388-8b7d-4226-a27f-a22f66686bc6",
   "metadata": {
    "tags": []
   },
   "source": [
    "## 3. K-means from scratch\n",
    "\n",
    "To divide the songs into cluster we will implement K-Means algorithm from scratch on the PCA'd dataframe"
   ]
  },
  {
   "cell_type": "code",
   "execution_count": null,
   "id": "1696d4a5-a0ec-430d-9b89-e9af844b7bf8",
   "metadata": {},
   "outputs": [],
   "source": [
    "dataset = f.load_pickle('pca.pickle')"
   ]
  },
  {
   "cell_type": "code",
   "execution_count": 11,
   "id": "29303e2b-f45b-40d1-9be2-d1ebecb1a422",
   "metadata": {
    "id": "pWc4HeEDBxqR"
   },
   "outputs": [],
   "source": [
    "# you can skip this part by running the command above\n",
    "\n",
    "dataset = pd.DataFrame(pca.transform(x))\n",
    "dataset = dataset.iloc[:, :n]"
   ]
  },
  {
   "cell_type": "markdown",
   "id": "097ea649-d6ba-4edd-9a71-9038bd11cbba",
   "metadata": {},
   "source": [
    "#### Selecting the number of clusters\n",
    "This can be done by looking at the scree plot by finding the elbow."
   ]
  },
  {
   "cell_type": "code",
   "execution_count": 12,
   "id": "6c82cdde-c72f-4c87-81ce-8a5a392a2f7d",
   "metadata": {
    "id": "6UWXyP63eA4U"
   },
   "outputs": [],
   "source": [
    "## Clustering\n",
    "K = 20\n",
    "\n",
    "labels = []\n",
    "centers = []\n",
    "\n",
    "for k in range(2,K+1):\n",
    "    label,center = f.kmeans(dataset,k)\n",
    "    labels.append(label)\n",
    "    centers.append(center)"
   ]
  },
  {
   "cell_type": "markdown",
   "id": "f5dd5109-f0c9-4961-b333-ac2479889d7f",
   "metadata": {
    "id": "rqzGxmC1Mjhp"
   },
   "source": [
    "#### Elbow method"
   ]
  },
  {
   "cell_type": "code",
   "execution_count": 13,
   "id": "f993c9f5-35a6-4919-863e-507941eb694e",
   "metadata": {
    "id": "3Z_S1azc3POW"
   },
   "outputs": [],
   "source": [
    "## Within cluster sum of square\n",
    "\n",
    "Within = []\n",
    "for center in centers:\n",
    "    within = np.min(distance.cdist(dataset, center, 'euclidean'),axis=1)\n",
    "    within=within**2\n",
    "    Within.append(sum(within))\n",
    "\n"
   ]
  },
  {
   "cell_type": "code",
   "execution_count": 14,
   "id": "d47fdef1-dee1-47fe-bc51-340ebf4aa087",
   "metadata": {
    "colab": {
     "base_uri": "https://localhost:8080/",
     "height": 498
    },
    "id": "dKMKj0x9CXK1",
    "outputId": "039ad267-eaa4-4f75-f2a0-880974de5939"
   },
   "outputs": [
    {
     "name": "stderr",
     "output_type": "stream",
     "text": [
      "findfont: Font family ['sans-serif'] not found. Falling back to DejaVu Sans.\n",
      "findfont: Generic family 'sans-serif' not found because none of the following families were found: Arial, Liberation Sans, Bitstream Vera Sans, sans-serif\n"
     ]
    },
    {
     "data": {
      "image/png": "[encoded data removed]",
      "text/plain": [
       "<Figure size 1152x576 with 1 Axes>"
      ]
     },
     "metadata": {},
     "output_type": "display_data"
    }
   ],
   "source": [
    "## Scree Plot \n",
    "\n",
    "import matplotlib.pyplot as plt\n",
    "import numpy as np\n",
    "\n",
    "x = []\n",
    "\n",
    "for i in range(2,K+1):\n",
    "    x.append(i)\n",
    "\n",
    "\n",
    "plt.figure(figsize=(16,8))\n",
    "plt.plot(x, Within, 'o-', linewidth=2, color='blue')\n",
    "plt.title('Scree Plot')\n",
    "plt.xlim((1,21))\n",
    "plt.show()"
   ]
  },
  {
   "cell_type": "markdown",
   "id": "c377bf86-2851-4632-aef4-4ce002fb22f0",
   "metadata": {
    "id": "o6x8sfoBM-DK"
   },
   "source": [
    "From the scree plot we can see that the suggested number of clusters is 10 because we can clearly see an elbow (where the function stops decreasing fast)"
   ]
  },
  {
   "cell_type": "markdown",
   "id": "54ebdd10-8baf-45c2-a050-8c4c7473c85b",
   "metadata": {},
   "source": [
    "#### Plotting the clusters"
   ]
  },
  {
   "cell_type": "code",
   "execution_count": 15,
   "id": "67be47b5-f465-443e-932f-f0f7825538fb",
   "metadata": {
    "colab": {
     "base_uri": "https://localhost:8080/",
     "height": 430
    },
    "id": "j6IJ9Tc5WkV4",
    "outputId": "077f3483-b44b-4240-fbed-b877ad50ff7d"
   },
   "outputs": [
    {
     "name": "stderr",
     "output_type": "stream",
     "text": [
      "No artists with labels found to put in legend.  Note that artists whose label start with an underscore are ignored when legend() is called with no argument.\n"
     ]
    },
    {
     "data": {
      "image/png": "[encoded data removed]",
      "text/plain": [
       "<Figure size 960x480 with 1 Axes>"
      ]
     },
     "metadata": {},
     "output_type": "display_data"
    }
   ],
   "source": [
    "d = dataset.to_numpy()\n",
    "\n",
    "figure(figsize = (12, 6), dpi = 80)\n",
    "\n",
    "u_labels = np.unique(labels[8])\n",
    "\n",
    "for i in u_labels:\n",
    "\n",
    "    plt.scatter(d[labels[8] == i , 0] , d[labels[8] == i , 1] , alpha=0.8)\n",
    "\n",
    "plt.legend()\n",
    "\n",
    "plt.show()"
   ]
  },
  {
   "cell_type": "markdown",
   "id": "d9516c85-ea61-4183-bd2b-c0fd74dbbbfb",
   "metadata": {
    "tags": []
   },
   "source": [
    "## 4. Pivotal Tables to understand the results\n",
    "\n",
    "We'll select some variables that we think are relevant to identify the genre of a song. For example, Duration, Language, Country, etc."
   ]
  },
  {
   "cell_type": "code",
   "execution_count": 17,
   "id": "1749a947-df28-44d3-9d99-aa4edc8ff7ef",
   "metadata": {
    "id": "gV1rvFSpvjMX"
   },
   "outputs": [],
   "source": [
    "df3 = f.load_pickle('tracks.pickle')"
   ]
  },
  {
   "cell_type": "code",
   "execution_count": 9,
   "id": "ec7658f5-c063-426e-b17f-2f4be94b8f9e",
   "metadata": {
    "colab": {
     "base_uri": "https://localhost:8080/",
     "height": 394
    },
    "id": "r0VCoXucNBmS",
    "outputId": "8d7b4867-be8e-45f7-e438-ec342a73d210"
   },
   "outputs": [
    {
     "data": {
      "text/html": [
       "<div>\n",
       "<style scoped>\n",
       "    .dataframe tbody tr th:only-of-type {\n",
       "        vertical-align: middle;\n",
       "    }\n",
       "\n",
       "    .dataframe tbody tr th {\n",
       "        vertical-align: top;\n",
       "    }\n",
       "\n",
       "    .dataframe thead th {\n",
       "        text-align: right;\n",
       "    }\n",
       "</style>\n",
       "<table border=\"1\" class=\"dataframe\">\n",
       "  <thead>\n",
       "    <tr style=\"text-align: right;\">\n",
       "      <th></th>\n",
       "      <th>Acousticness</th>\n",
       "      <th>Danceability</th>\n",
       "      <th>Energy</th>\n",
       "      <th>Instrumentalness</th>\n",
       "      <th>Liveness</th>\n",
       "      <th>Speechiness</th>\n",
       "      <th>Valence</th>\n",
       "    </tr>\n",
       "  </thead>\n",
       "  <tbody>\n",
       "    <tr>\n",
       "      <th>0</th>\n",
       "      <td>0.416675</td>\n",
       "      <td>0.675894</td>\n",
       "      <td>0.634476</td>\n",
       "      <td>0.010628</td>\n",
       "      <td>0.177647</td>\n",
       "      <td>0.159310</td>\n",
       "      <td>0.576661</td>\n",
       "    </tr>\n",
       "    <tr>\n",
       "      <th>1</th>\n",
       "      <td>0.374408</td>\n",
       "      <td>0.528643</td>\n",
       "      <td>0.817461</td>\n",
       "      <td>0.001851</td>\n",
       "      <td>0.105880</td>\n",
       "      <td>0.461818</td>\n",
       "      <td>0.269240</td>\n",
       "    </tr>\n",
       "    <tr>\n",
       "      <th>2</th>\n",
       "      <td>0.043567</td>\n",
       "      <td>0.745566</td>\n",
       "      <td>0.701470</td>\n",
       "      <td>0.000697</td>\n",
       "      <td>0.373143</td>\n",
       "      <td>0.124595</td>\n",
       "      <td>0.621661</td>\n",
       "    </tr>\n",
       "    <tr>\n",
       "      <th>3</th>\n",
       "      <td>0.951670</td>\n",
       "      <td>0.658179</td>\n",
       "      <td>0.924525</td>\n",
       "      <td>0.965427</td>\n",
       "      <td>0.115474</td>\n",
       "      <td>0.032985</td>\n",
       "      <td>0.963590</td>\n",
       "    </tr>\n",
       "    <tr>\n",
       "      <th>4</th>\n",
       "      <td>0.452217</td>\n",
       "      <td>0.513238</td>\n",
       "      <td>0.560410</td>\n",
       "      <td>0.019443</td>\n",
       "      <td>0.096567</td>\n",
       "      <td>0.525519</td>\n",
       "      <td>0.894072</td>\n",
       "    </tr>\n",
       "    <tr>\n",
       "      <th>5</th>\n",
       "      <td>0.106550</td>\n",
       "      <td>0.260911</td>\n",
       "      <td>0.607067</td>\n",
       "      <td>0.835087</td>\n",
       "      <td>0.223676</td>\n",
       "      <td>0.030569</td>\n",
       "      <td>0.160267</td>\n",
       "    </tr>\n",
       "    <tr>\n",
       "      <th>6</th>\n",
       "      <td>0.376312</td>\n",
       "      <td>0.734079</td>\n",
       "      <td>0.265685</td>\n",
       "      <td>0.669581</td>\n",
       "      <td>0.085995</td>\n",
       "      <td>0.039068</td>\n",
       "      <td>0.609991</td>\n",
       "    </tr>\n",
       "    <tr>\n",
       "      <th>7</th>\n",
       "      <td>0.963657</td>\n",
       "      <td>0.435933</td>\n",
       "      <td>0.075632</td>\n",
       "      <td>0.345493</td>\n",
       "      <td>0.105686</td>\n",
       "      <td>0.026658</td>\n",
       "      <td>0.163950</td>\n",
       "    </tr>\n",
       "    <tr>\n",
       "      <th>8</th>\n",
       "      <td>0.662881</td>\n",
       "      <td>0.379065</td>\n",
       "      <td>0.823856</td>\n",
       "      <td>0.910266</td>\n",
       "      <td>0.088705</td>\n",
       "      <td>0.079090</td>\n",
       "      <td>0.092868</td>\n",
       "    </tr>\n",
       "    <tr>\n",
       "      <th>9</th>\n",
       "      <td>0.909011</td>\n",
       "      <td>0.443643</td>\n",
       "      <td>0.641997</td>\n",
       "      <td>0.924092</td>\n",
       "      <td>0.267669</td>\n",
       "      <td>0.089659</td>\n",
       "      <td>0.788251</td>\n",
       "    </tr>\n",
       "    <tr>\n",
       "      <th>10</th>\n",
       "      <td>0.235506</td>\n",
       "      <td>0.438672</td>\n",
       "      <td>0.487752</td>\n",
       "      <td>0.716122</td>\n",
       "      <td>0.070359</td>\n",
       "      <td>0.047298</td>\n",
       "      <td>0.650452</td>\n",
       "    </tr>\n",
       "  </tbody>\n",
       "</table>\n",
       "</div>"
      ],
      "text/plain": [
       "    Acousticness  Danceability    Energy  Instrumentalness  Liveness  \\\n",
       "0       0.416675      0.675894  0.634476          0.010628  0.177647   \n",
       "1       0.374408      0.528643  0.817461          0.001851  0.105880   \n",
       "2       0.043567      0.745566  0.701470          0.000697  0.373143   \n",
       "3       0.951670      0.658179  0.924525          0.965427  0.115474   \n",
       "4       0.452217      0.513238  0.560410          0.019443  0.096567   \n",
       "5       0.106550      0.260911  0.607067          0.835087  0.223676   \n",
       "6       0.376312      0.734079  0.265685          0.669581  0.085995   \n",
       "7       0.963657      0.435933  0.075632          0.345493  0.105686   \n",
       "8       0.662881      0.379065  0.823856          0.910266  0.088705   \n",
       "9       0.909011      0.443643  0.641997          0.924092  0.267669   \n",
       "10      0.235506      0.438672  0.487752          0.716122  0.070359   \n",
       "\n",
       "    Speechiness   Valence  \n",
       "0      0.159310  0.576661  \n",
       "1      0.461818  0.269240  \n",
       "2      0.124595  0.621661  \n",
       "3      0.032985  0.963590  \n",
       "4      0.525519  0.894072  \n",
       "5      0.030569  0.160267  \n",
       "6      0.039068  0.609991  \n",
       "7      0.026658  0.163950  \n",
       "8      0.079090  0.092868  \n",
       "9      0.089659  0.788251  \n",
       "10     0.047298  0.650452  "
      ]
     },
     "execution_count": 9,
     "metadata": {},
     "output_type": "execute_result"
    }
   ],
   "source": [
    "#We are gonna take all the variables regarding the sound of every song\n",
    "Identifiers = df1[['audio_features_acousticness','audio_features_danceability',\n",
    "                   'audio_features_energy','audio_features_instrumentalness','audio_features_liveness', \n",
    "                   'audio_features_speechiness', 'audio_features_valence']]\n",
    "\n",
    "#Let's give a cleaner look to the data!\n",
    "Identifiers = Identifiers.rename(columns={'audio_features_acousticness':'Acousticness', 'audio_features_danceability':'Danceability',\n",
    "                           'audio_features_energy':'Energy', 'audio_features_instrumentalness':'Instrumentalness', \n",
    "                           'audio_features_liveness': 'Liveness', 'audio_features_speechiness':'Speechiness', \n",
    "                           'audio_features_valence':'Valence'})\n",
    "Identifiers.head(11)"
   ]
  },
  {
   "cell_type": "markdown",
   "id": "ca27ea7b-48e9-4259-bb0e-7ae38458264d",
   "metadata": {
    "id": "6sRgg9qxNHBO"
   },
   "source": [
    "On the web we found that the variables have the following meanings:\n",
    "\n",
    "**Acousticness** describes how acoustic a song is. \n",
    "\n",
    "**Danceability** describes how suitable a track is for dancing based on a combination of musical elements including tempo, rhythm stability, beat strength, and overall regularity.\n",
    "\n",
    "**Energy** represents a perceptual measure of intensity and activity. Typically, energetic tracks feel fast, loud, and noisy.\n",
    "\n",
    "**Instrumentalness** represents the amount of vocals in the song.\n",
    "\n",
    "**Liveness** describes the probability that the song was recorded with a live audience.\n",
    "\n",
    "**Speechiness** detects the presence of spoken words in a track.\n",
    "\n",
    "**Valence** represents the musical positiveness conveyed by a track.\n"
   ]
  },
  {
   "cell_type": "markdown",
   "id": "b23add7a-e78c-4be6-b3a7-78e3dbcdb0a9",
   "metadata": {},
   "source": [
    "#### Categorizing the data"
   ]
  },
  {
   "cell_type": "code",
   "execution_count": 10,
   "id": "c15c014a-856e-4bd1-a7fb-d541c3e72004",
   "metadata": {
    "id": "nE9VPi4sNLGr"
   },
   "outputs": [],
   "source": [
    "#CATEGORIZATION OF DATA\n",
    "for i in range(len(Identifiers)):\n",
    "    for j in range(len(Identifiers.columns)):\n",
    "        if (Identifiers.values[i][j]<0.25):\n",
    "            Identifiers.values[i][j] = 1\n",
    "        elif (Identifiers.values[i][j]>=0.25) & (Identifiers.values[i][j]<0.5):\n",
    "            Identifiers.values[i][j] = 2\n",
    "        elif (Identifiers.values[i][j]>=0.5) & (Identifiers.values[i][j]<0.75):\n",
    "            Identifiers.values[i][j] = 3\n",
    "        else:\n",
    "            Identifiers.values[i][j] = 4"
   ]
  },
  {
   "cell_type": "markdown",
   "id": "fefb5290-46b7-49b3-8c1d-c2313e157da8",
   "metadata": {},
   "source": [
    "#### Pivoting"
   ]
  },
  {
   "cell_type": "markdown",
   "id": "a2af3221-f693-4055-b2b9-a017eb52877d",
   "metadata": {
    "id": "p5c_gOQANUke"
   },
   "source": [
    "With the selected variables, we perform pivot tables. On the horizontal axis the clusters and on the vertical axis the categories of each variable. Notice that you have to do one pivot table per variable."
   ]
  },
  {
   "cell_type": "code",
   "execution_count": 11,
   "id": "839e74ed-ae54-422e-a7ba-820f39bf482b",
   "metadata": {
    "colab": {
     "base_uri": "https://localhost:8080/",
     "height": 394
    },
    "id": "tQ7BYtmYNY04",
    "outputId": "cbb90e4f-e239-433f-ce9b-247c10f71e96"
   },
   "outputs": [
    {
     "ename": "NameError",
     "evalue": "name 'labels' is not defined",
     "output_type": "error",
     "traceback": [
      "\u001b[0;31m---------------------------------------------------------------------------\u001b[0m",
      "\u001b[0;31mNameError\u001b[0m                                 Traceback (most recent call last)",
      "\u001b[0;32m/tmp/ipykernel_19365/2346331341.py\u001b[0m in \u001b[0;36m<module>\u001b[0;34m\u001b[0m\n\u001b[0;32m----> 1\u001b[0;31m \u001b[0mlabels_10\u001b[0m \u001b[0;34m=\u001b[0m \u001b[0mlabels\u001b[0m\u001b[0;34m[\u001b[0m\u001b[0;36m8\u001b[0m\u001b[0;34m]\u001b[0m \u001b[0;34m+\u001b[0m \u001b[0;36m1\u001b[0m\u001b[0;34m\u001b[0m\u001b[0;34m\u001b[0m\u001b[0m\n\u001b[0m\u001b[1;32m      2\u001b[0m \u001b[0mIdentifiers\u001b[0m\u001b[0;34m[\u001b[0m\u001b[0;34m'#Cluster'\u001b[0m\u001b[0;34m]\u001b[0m \u001b[0;34m=\u001b[0m \u001b[0mlabels_10\u001b[0m\u001b[0;34m\u001b[0m\u001b[0;34m\u001b[0m\u001b[0m\n\u001b[1;32m      3\u001b[0m \u001b[0mIdentifiers\u001b[0m\u001b[0;34m.\u001b[0m\u001b[0mhead\u001b[0m\u001b[0;34m(\u001b[0m\u001b[0;36m11\u001b[0m\u001b[0;34m)\u001b[0m\u001b[0;34m\u001b[0m\u001b[0;34m\u001b[0m\u001b[0m\n",
      "\u001b[0;31mNameError\u001b[0m: name 'labels' is not defined"
     ]
    }
   ],
   "source": [
    "labels_10 = labels[8] + 1\n",
    "Identifiers['#Cluster'] = labels_10\n",
    "Identifiers.head(11)"
   ]
  },
  {
   "cell_type": "markdown",
   "id": "be168e91-d7d4-4546-bdcd-29367c5cfede",
   "metadata": {},
   "source": [
    "Pivot table for the Acousticness"
   ]
  },
  {
   "cell_type": "code",
   "execution_count": null,
   "id": "7120dc43-7622-4e82-bd1e-6d4d9b275d05",
   "metadata": {
    "colab": {
     "base_uri": "https://localhost:8080/",
     "height": 206
    },
    "id": "nxnlonQqNsfb",
    "outputId": "e4dcca73-cbf6-4284-df14-2753daccfcd8"
   },
   "outputs": [
    {
     "data": {
      "text/html": [
       "<div>\n",
       "<style scoped>\n",
       "    .dataframe tbody tr th:only-of-type {\n",
       "        vertical-align: middle;\n",
       "    }\n",
       "\n",
       "    .dataframe tbody tr th {\n",
       "        vertical-align: top;\n",
       "    }\n",
       "\n",
       "    .dataframe thead th {\n",
       "        text-align: right;\n",
       "    }\n",
       "</style>\n",
       "<table border=\"1\" class=\"dataframe\">\n",
       "  <thead>\n",
       "    <tr style=\"text-align: right;\">\n",
       "      <th>#Cluster</th>\n",
       "      <th>1</th>\n",
       "      <th>2</th>\n",
       "      <th>3</th>\n",
       "      <th>4</th>\n",
       "      <th>5</th>\n",
       "      <th>6</th>\n",
       "      <th>7</th>\n",
       "      <th>8</th>\n",
       "      <th>9</th>\n",
       "      <th>10</th>\n",
       "    </tr>\n",
       "    <tr>\n",
       "      <th>Acousticness</th>\n",
       "      <th></th>\n",
       "      <th></th>\n",
       "      <th></th>\n",
       "      <th></th>\n",
       "      <th></th>\n",
       "      <th></th>\n",
       "      <th></th>\n",
       "      <th></th>\n",
       "      <th></th>\n",
       "      <th></th>\n",
       "    </tr>\n",
       "  </thead>\n",
       "  <tbody>\n",
       "    <tr>\n",
       "      <th>1.0</th>\n",
       "      <td>42.39</td>\n",
       "      <td>0.77</td>\n",
       "      <td>11.57</td>\n",
       "      <td>69.61</td>\n",
       "      <td>42.88</td>\n",
       "      <td>0.0</td>\n",
       "      <td>2.55</td>\n",
       "      <td>14.39</td>\n",
       "      <td>41.19</td>\n",
       "      <td>43.06</td>\n",
       "    </tr>\n",
       "    <tr>\n",
       "      <th>2.0</th>\n",
       "      <td>11.59</td>\n",
       "      <td>0.00</td>\n",
       "      <td>6.02</td>\n",
       "      <td>14.75</td>\n",
       "      <td>16.62</td>\n",
       "      <td>0.0</td>\n",
       "      <td>3.21</td>\n",
       "      <td>10.09</td>\n",
       "      <td>12.22</td>\n",
       "      <td>18.81</td>\n",
       "    </tr>\n",
       "    <tr>\n",
       "      <th>3.0</th>\n",
       "      <td>14.26</td>\n",
       "      <td>0.19</td>\n",
       "      <td>7.87</td>\n",
       "      <td>9.65</td>\n",
       "      <td>14.25</td>\n",
       "      <td>0.0</td>\n",
       "      <td>4.53</td>\n",
       "      <td>15.84</td>\n",
       "      <td>14.27</td>\n",
       "      <td>17.73</td>\n",
       "    </tr>\n",
       "    <tr>\n",
       "      <th>4.0</th>\n",
       "      <td>31.76</td>\n",
       "      <td>99.04</td>\n",
       "      <td>74.54</td>\n",
       "      <td>6.00</td>\n",
       "      <td>26.25</td>\n",
       "      <td>100.0</td>\n",
       "      <td>89.71</td>\n",
       "      <td>59.67</td>\n",
       "      <td>32.32</td>\n",
       "      <td>20.40</td>\n",
       "    </tr>\n",
       "  </tbody>\n",
       "</table>\n",
       "</div>"
      ],
      "text/plain": [
       "#Cluster         1      2      3      4   ...     7      8      9      10\n",
       "Acousticness                              ...                            \n",
       "1.0           42.39   0.77  11.57  69.61  ...   2.55  14.39  41.19  43.06\n",
       "2.0           11.59   0.00   6.02  14.75  ...   3.21  10.09  12.22  18.81\n",
       "3.0           14.26   0.19   7.87   9.65  ...   4.53  15.84  14.27  17.73\n",
       "4.0           31.76  99.04  74.54   6.00  ...  89.71  59.67  32.32  20.40\n",
       "\n",
       "[4 rows x 10 columns]"
      ]
     },
     "execution_count": 27,
     "metadata": {},
     "output_type": "execute_result"
    }
   ],
   "source": [
    "round(pd.crosstab(index=Identifiers['Acousticness'], columns=Identifiers['#Cluster'], normalize='columns')*100, 2)"
   ]
  },
  {
   "cell_type": "markdown",
   "id": "49414334-baf8-4551-a74d-472174c5c642",
   "metadata": {
    "id": "rxfUAQy9mTdH"
   },
   "source": [
    "The acousticness is typical of \"genuine\" music (music without electronic or artificial sounds). \n",
    "\n",
    "The table shows that the clusters 2, 3, 6 and 7 have a big acoustic component, so these groups may represent classic music or historical music."
   ]
  },
  {
   "cell_type": "markdown",
   "id": "af0a97c6-240c-4d0e-ac22-225a59a13a8a",
   "metadata": {},
   "source": [
    "#### Comparing the results with the real genres\n",
    "\n",
    "This will allow us to answer what is the most representative genre for each one of the clusters."
   ]
  },
  {
   "cell_type": "code",
   "execution_count": null,
   "id": "d09c0501-6850-427d-9b89-6a29c22d0b03",
   "metadata": {
    "colab": {
     "base_uri": "https://localhost:8080/",
     "height": 457
    },
    "id": "fbXk6GhSoFbo",
    "outputId": "e710d528-41f3-4e61-e1c3-78f007704d39"
   },
   "outputs": [
    {
     "data": {
      "text/html": [
       "<div>\n",
       "<style scoped>\n",
       "    .dataframe tbody tr th:only-of-type {\n",
       "        vertical-align: middle;\n",
       "    }\n",
       "\n",
       "    .dataframe tbody tr th {\n",
       "        vertical-align: top;\n",
       "    }\n",
       "\n",
       "    .dataframe thead th {\n",
       "        text-align: right;\n",
       "    }\n",
       "</style>\n",
       "<table border=\"1\" class=\"dataframe\">\n",
       "  <thead>\n",
       "    <tr style=\"text-align: right;\">\n",
       "      <th>#Cluster</th>\n",
       "      <th>1</th>\n",
       "      <th>2</th>\n",
       "      <th>3</th>\n",
       "      <th>4</th>\n",
       "      <th>5</th>\n",
       "      <th>6</th>\n",
       "      <th>7</th>\n",
       "      <th>8</th>\n",
       "      <th>9</th>\n",
       "      <th>10</th>\n",
       "    </tr>\n",
       "    <tr>\n",
       "      <th>Genre</th>\n",
       "      <th></th>\n",
       "      <th></th>\n",
       "      <th></th>\n",
       "      <th></th>\n",
       "      <th></th>\n",
       "      <th></th>\n",
       "      <th></th>\n",
       "      <th></th>\n",
       "      <th></th>\n",
       "      <th></th>\n",
       "    </tr>\n",
       "  </thead>\n",
       "  <tbody>\n",
       "    <tr>\n",
       "      <th>Blues</th>\n",
       "      <td>0.50</td>\n",
       "      <td>0.22</td>\n",
       "      <td>0.00</td>\n",
       "      <td>0.21</td>\n",
       "      <td>0.50</td>\n",
       "      <td>0.0</td>\n",
       "      <td>1.88</td>\n",
       "      <td>1.57</td>\n",
       "      <td>0.00</td>\n",
       "      <td>0.40</td>\n",
       "    </tr>\n",
       "    <tr>\n",
       "      <th>Classical</th>\n",
       "      <td>0.10</td>\n",
       "      <td>9.05</td>\n",
       "      <td>12.41</td>\n",
       "      <td>0.10</td>\n",
       "      <td>0.20</td>\n",
       "      <td>0.0</td>\n",
       "      <td>23.95</td>\n",
       "      <td>1.63</td>\n",
       "      <td>0.27</td>\n",
       "      <td>0.27</td>\n",
       "    </tr>\n",
       "    <tr>\n",
       "      <th>Electronic</th>\n",
       "      <td>5.11</td>\n",
       "      <td>1.10</td>\n",
       "      <td>30.66</td>\n",
       "      <td>49.69</td>\n",
       "      <td>52.05</td>\n",
       "      <td>100.0</td>\n",
       "      <td>16.02</td>\n",
       "      <td>11.35</td>\n",
       "      <td>20.00</td>\n",
       "      <td>36.56</td>\n",
       "    </tr>\n",
       "    <tr>\n",
       "      <th>Experimental</th>\n",
       "      <td>0.10</td>\n",
       "      <td>0.44</td>\n",
       "      <td>0.00</td>\n",
       "      <td>0.10</td>\n",
       "      <td>0.20</td>\n",
       "      <td>0.0</td>\n",
       "      <td>0.43</td>\n",
       "      <td>0.16</td>\n",
       "      <td>0.13</td>\n",
       "      <td>0.20</td>\n",
       "    </tr>\n",
       "    <tr>\n",
       "      <th>Folk</th>\n",
       "      <td>3.33</td>\n",
       "      <td>9.93</td>\n",
       "      <td>27.74</td>\n",
       "      <td>2.90</td>\n",
       "      <td>1.40</td>\n",
       "      <td>0.0</td>\n",
       "      <td>24.82</td>\n",
       "      <td>25.41</td>\n",
       "      <td>2.55</td>\n",
       "      <td>1.53</td>\n",
       "    </tr>\n",
       "    <tr>\n",
       "      <th>Hip-Hop</th>\n",
       "      <td>1.49</td>\n",
       "      <td>0.00</td>\n",
       "      <td>3.65</td>\n",
       "      <td>17.12</td>\n",
       "      <td>24.12</td>\n",
       "      <td>0.0</td>\n",
       "      <td>1.15</td>\n",
       "      <td>2.50</td>\n",
       "      <td>5.23</td>\n",
       "      <td>24.95</td>\n",
       "    </tr>\n",
       "    <tr>\n",
       "      <th>Instrumental</th>\n",
       "      <td>0.45</td>\n",
       "      <td>0.66</td>\n",
       "      <td>0.73</td>\n",
       "      <td>0.31</td>\n",
       "      <td>0.90</td>\n",
       "      <td>0.0</td>\n",
       "      <td>1.15</td>\n",
       "      <td>2.06</td>\n",
       "      <td>0.54</td>\n",
       "      <td>0.60</td>\n",
       "    </tr>\n",
       "    <tr>\n",
       "      <th>International</th>\n",
       "      <td>0.79</td>\n",
       "      <td>1.10</td>\n",
       "      <td>3.65</td>\n",
       "      <td>0.00</td>\n",
       "      <td>1.10</td>\n",
       "      <td>0.0</td>\n",
       "      <td>2.45</td>\n",
       "      <td>2.88</td>\n",
       "      <td>1.21</td>\n",
       "      <td>1.13</td>\n",
       "    </tr>\n",
       "    <tr>\n",
       "      <th>Jazz</th>\n",
       "      <td>0.74</td>\n",
       "      <td>1.55</td>\n",
       "      <td>0.73</td>\n",
       "      <td>1.56</td>\n",
       "      <td>2.50</td>\n",
       "      <td>0.0</td>\n",
       "      <td>10.25</td>\n",
       "      <td>4.07</td>\n",
       "      <td>1.07</td>\n",
       "      <td>1.59</td>\n",
       "    </tr>\n",
       "    <tr>\n",
       "      <th>Old-Time / Historic</th>\n",
       "      <td>0.05</td>\n",
       "      <td>74.61</td>\n",
       "      <td>0.00</td>\n",
       "      <td>0.31</td>\n",
       "      <td>0.00</td>\n",
       "      <td>0.0</td>\n",
       "      <td>1.44</td>\n",
       "      <td>0.16</td>\n",
       "      <td>0.13</td>\n",
       "      <td>0.07</td>\n",
       "    </tr>\n",
       "    <tr>\n",
       "      <th>Pop</th>\n",
       "      <td>2.63</td>\n",
       "      <td>0.22</td>\n",
       "      <td>0.73</td>\n",
       "      <td>2.80</td>\n",
       "      <td>6.01</td>\n",
       "      <td>0.0</td>\n",
       "      <td>4.76</td>\n",
       "      <td>6.51</td>\n",
       "      <td>2.28</td>\n",
       "      <td>2.26</td>\n",
       "    </tr>\n",
       "    <tr>\n",
       "      <th>Rock</th>\n",
       "      <td>84.71</td>\n",
       "      <td>1.10</td>\n",
       "      <td>19.71</td>\n",
       "      <td>24.90</td>\n",
       "      <td>11.01</td>\n",
       "      <td>0.0</td>\n",
       "      <td>11.69</td>\n",
       "      <td>41.69</td>\n",
       "      <td>66.58</td>\n",
       "      <td>30.46</td>\n",
       "    </tr>\n",
       "  </tbody>\n",
       "</table>\n",
       "</div>"
      ],
      "text/plain": [
       "#Cluster                1      2      3      4   ...     7      8      9      10\n",
       "Genre                                            ...                            \n",
       "Blues                 0.50   0.22   0.00   0.21  ...   1.88   1.57   0.00   0.40\n",
       "Classical             0.10   9.05  12.41   0.10  ...  23.95   1.63   0.27   0.27\n",
       "Electronic            5.11   1.10  30.66  49.69  ...  16.02  11.35  20.00  36.56\n",
       "Experimental          0.10   0.44   0.00   0.10  ...   0.43   0.16   0.13   0.20\n",
       "Folk                  3.33   9.93  27.74   2.90  ...  24.82  25.41   2.55   1.53\n",
       "Hip-Hop               1.49   0.00   3.65  17.12  ...   1.15   2.50   5.23  24.95\n",
       "Instrumental          0.45   0.66   0.73   0.31  ...   1.15   2.06   0.54   0.60\n",
       "International         0.79   1.10   3.65   0.00  ...   2.45   2.88   1.21   1.13\n",
       "Jazz                  0.74   1.55   0.73   1.56  ...  10.25   4.07   1.07   1.59\n",
       "Old-Time / Historic   0.05  74.61   0.00   0.31  ...   1.44   0.16   0.13   0.07\n",
       "Pop                   2.63   0.22   0.73   2.80  ...   4.76   6.51   2.28   2.26\n",
       "Rock                 84.71   1.10  19.71  24.90  ...  11.69  41.69  66.58  30.46\n",
       "\n",
       "[12 rows x 10 columns]"
      ]
     },
     "execution_count": 33,
     "metadata": {},
     "output_type": "execute_result"
    }
   ],
   "source": [
    "round(pd.crosstab(index=Identifiers['Genre'], columns=Identifiers['#Cluster'], normalize='columns')*100, 2)"
   ]
  },
  {
   "cell_type": "markdown",
   "id": "6c22ba15-8de9-4c4d-9a64-48f37a332329",
   "metadata": {
    "id": "klqbgjYauQxG"
   },
   "source": [
    "From the obtained results we can conclude that the clustering has in part succeded: we can observe that our clustering has captured some genres like Old-time/Historic, Rock and Classical are mainly contained into some specific clusters. Old-time features are mainly contained into Cluster 2, Rock's are primarly contained into Cluster 1 and Classical variables are mostly contained into Cluster 7.\n",
    "\n",
    "\n",
    "Although the clustering is not so accurate because we are working in unsupervised contexts and we are unaware of the \"ground truth\" at the base of the data. It can be useful in cases like these to be supported by people with specific knowledge of the field of which the data are part so as to be able to have a more accurate technical opinion regarding the features present in the dataset and any results obtained."
   ]
  }
 ],
 "metadata": {
  "kernelspec": {
   "display_name": "Python 3 (ipykernel)",
   "language": "python",
   "name": "python3"
  },
  "language_info": {
   "codemirror_mode": {
    "name": "ipython",
    "version": 3
   },
   "file_extension": ".py",
   "mimetype": "text/x-python",
   "name": "python",
   "nbconvert_exporter": "python",
   "pygments_lexer": "ipython3",
   "version": "3.8.10"
  }
 },
 "nbformat": 4,
 "nbformat_minor": 5
}
